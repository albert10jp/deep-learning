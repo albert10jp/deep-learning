{
 "cells": [
  {
   "cell_type": "code",
   "execution_count": 1,
   "id": "a1e52e96",
   "metadata": {},
   "outputs": [],
   "source": [
    "from sklearn.datasets import load_iris\n",
    "from sklearn.model_selection import train_test_split\n",
    "import numpy as np\n",
    "iris = load_iris()\n",
    "x_train = iris.data[50:]\n",
    "y_train = iris.target[50:]\n",
    "y_train = y_train - 1\n",
    "x_train, x_test, y_train, y_test = train_test_split(\n",
    "    x_train, y_train, test_size=0.33, random_state=2021)"
   ]
  },
  {
   "cell_type": "code",
   "execution_count": 2,
   "id": "0d7bd5cc",
   "metadata": {},
   "outputs": [],
   "source": [
    "def sigmoid(z):\n",
    "    s = 1 / (1 + np.exp(-z))\n",
    "    return s\n",
    "\n",
    "class LogisticRegression:\n",
    "    def __init__(self, eta=.05, n_epoch=10, model_w=np.full(4, .5), model_b=.0):\n",
    "        self.eta = eta\n",
    "        self.n_epoch = n_epoch\n",
    "        self.model_w = model_w\n",
    "        self.model_b = model_b\n",
    "\n",
    "    def activation(self, x):\n",
    "        z = np.dot(x, self.model_w) + self.model_b\n",
    "        return sigmoid(z)\n",
    "        \n",
    "    def predict(self, x):\n",
    "        a = self.activation(x)\n",
    "        if a >= 0.5:\n",
    "            return 1\n",
    "        else:\n",
    "            return 0\n",
    "\n",
    "    def update_weights(self, x, y, verbose=False):\n",
    "        a = self.activation(x)\n",
    "        dz = a - y\n",
    "        self.model_w -= self.eta * dz * x\n",
    "        self.model_b -= self.eta * dz\n",
    "        \n",
    "    def fit(self, x, y, verbose=False, seed=None):\n",
    "        indices = np.arange(len(x))\n",
    "        for i in range(self.n_epoch):\n",
    "            n_iter = 0\n",
    "            np.random.seed(seed)\n",
    "            np.random.shuffle(indices)\n",
    "            for idx in indices:\n",
    "                if(self.predict(x[idx])!=y[idx]):\n",
    "                    self.update_weights(x[idx], y[idx], verbose)\n",
    "                else:\n",
    "                    n_iter += 1\n",
    "            if(n_iter==len(x)):\n",
    "                print('model gets 100% train accuracy after {} epoch(s)'.format(i))\n",
    "                break"
   ]
  },
  {
   "cell_type": "code",
   "execution_count": 3,
   "id": "2fe8abeb",
   "metadata": {},
   "outputs": [
    {
     "name": "stdout",
     "output_type": "stream",
     "text": [
      "model trained 0.51009 s\n"
     ]
    }
   ],
   "source": [
    "import time\n",
    "start_time = time.time()\n",
    "w_mnist = np.full(4, .1)\n",
    "classifier_mnist = LogisticRegression(.05, 1000, w_mnist)\n",
    "classifier_mnist.fit(x_train, y_train, seed=0)\n",
    "print('model trained {:.5f} s'.format(time.time() - start_time))"
   ]
  },
  {
   "cell_type": "code",
   "execution_count": 4,
   "id": "7c5d3063",
   "metadata": {},
   "outputs": [
    {
     "name": "stdout",
     "output_type": "stream",
     "text": [
      "train accuracy 0.95522\n",
      "test accuracy 0.96970\n"
     ]
    }
   ],
   "source": [
    "y_prediction = np.array(list(map(classifier_mnist.predict, x_train)))\n",
    "acc = np.count_nonzero(y_prediction==y_train)\n",
    "print('train accuracy {:.5f}'.format(acc/len(y_train)))\n",
    "\n",
    "y_prediction = np.array(list(map(classifier_mnist.predict, x_test)))\n",
    "acc = np.count_nonzero(y_prediction==y_test)\n",
    "print('test accuracy {:.5f}'.format(acc/len(y_test)))"
   ]
  }
 ],
 "metadata": {
  "kernelspec": {
   "display_name": "Python 3",
   "language": "python",
   "name": "python3"
  },
  "language_info": {
   "codemirror_mode": {
    "name": "ipython",
    "version": 3
   },
   "file_extension": ".py",
   "mimetype": "text/x-python",
   "name": "python",
   "nbconvert_exporter": "python",
   "pygments_lexer": "ipython3",
   "version": "3.6.2"
  },
  "toc": {
   "base_numbering": 1,
   "nav_menu": {},
   "number_sections": true,
   "sideBar": true,
   "skip_h1_title": false,
   "title_cell": "Table of Contents",
   "title_sidebar": "Contents",
   "toc_cell": false,
   "toc_position": {},
   "toc_section_display": true,
   "toc_window_display": false
  }
 },
 "nbformat": 4,
 "nbformat_minor": 5
}

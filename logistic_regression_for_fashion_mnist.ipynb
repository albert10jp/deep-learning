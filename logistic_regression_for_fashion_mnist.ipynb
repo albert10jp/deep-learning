{
 "cells": [
  {
   "cell_type": "code",
   "execution_count": 1,
   "id": "814c51c7",
   "metadata": {},
   "outputs": [],
   "source": [
    "import numpy as np\n",
    "import time\n",
    "\n",
    "class LogisticRegression:\n",
    "    def __init__(self, learning_rate=.05, n_epoch=10, model_w=[], model_b=.0):\n",
    "        self.learning_rate = learning_rate\n",
    "        self.n_epoch = n_epoch\n",
    "        self.model_w = model_w\n",
    "        self.model_b = model_b\n",
    "        \n",
    "    def initialize_params(self, n_x):\n",
    "        if len(self.model_w) == 0:\n",
    "            self.model_w = np.random.random((n_x, 1))",
    "    \n",
    "    # forward_propagation\n",
    "    # predict_prob\n",
    "    def activation(self, x):\n",
    "        z = np.dot(x, self.model_w) + self.model_b\n",
    "        a = 1 / (1 + np.exp(-z))\n",
    "        return a\n",
    "        \n",
    "    def predict(self, x):\n",
    "        a = self.activation(x) >= 0.5\n",
    "        return np.squeeze(1*a)\n",
    "    \n",
    "    def evaluate(self, x, y):\n",
    "        acc = np.count_nonzero(np.squeeze(self.predict(x)) == np.squeeze(y))/len(y)\n",
    "        return acc\n",
    "    \n",
    "    def backward_propagation(self, x, a, y):\n",
    "        m = len(x)\n",
    "        dz = a - y\n",
    "        dw = np.dot(x.T, dz)/m\n",
    "        db = np.mean(dz)\n",
    "        return dw, db\n",
    "\n",
    "    def update_weights(self, dw, db):\n",
    "        self.model_w -= self.learning_rate * dw\n",
    "        self.model_b -= self.learning_rate * db\n",
    "        \n",
    "    def fit(self, x, y, batch_size=10, shuffle=True, verbose=True):\n",
    "        start_time = time.time()\n",
    "        n_x = x.shape[-1]\n",
    "        self.initialize_params(n_x)\n",
    "        indices = np.arange(len(x))\n",
    "        for i in range(self.n_epoch):\n",
    "            if shuffle:\n",
    "                np.random.shuffle(indices)\n",
    "            n_batches = int(len(x)/batch_size)\n",
    "            batches = np.split(indices[:batch_size*n_batches], n_batches)\n",
    "            for batch in batches:\n",
    "                a = self.activation(x[batch])\n",
    "                dw, db = self.backward_propagation(x[batch], a, y[batch])\n",
    "                self.update_weights(dw, db)\n",
    "        acc = self.evaluate(x, y)\n",
    "        if verbose:\n",
    "            print('model trained {:.5f} s'.format(time.time() - start_time))\n",
    "            print('train accuracy: {:7f}'.format(acc))"
   ]
  },
  {
   "cell_type": "code",
   "execution_count": 2,
   "id": "b8a8966c",
   "metadata": {},
   "outputs": [],
   "source": [
    "import tensorflow as tf\n",
    "(x_train, y_train), (x_test, y_test) = tf.keras.datasets.fashion_mnist.load_data()\n",
    "\n",
    "# generate the indices\n",
    "idx_digit_train = np.argwhere((y_train == 0) | (y_train == 6)).flatten()\n",
    "idx_digit_test = np.argwhere((y_test == 0) | (y_test == 6)).flatten()\n",
    "\n",
    "# construct the training set\n",
    "y_train_mnist = y_train[idx_digit_train].reshape(-1,1)\n",
    "x_train_mnist = x_train[idx_digit_train]\n",
    "\n",
    "# construct the test set\n",
    "y_test_mnist = y_test[idx_digit_test].reshape(-1,1)\n",
    "x_test_mnist = x_test[idx_digit_test]\n",
    "\n",
    "# normalization\n",
    "x_train_mnist = x_train_mnist/255.\n",
    "x_test_mnist = x_test_mnist/255.\n",
    "\n",
    "# flatten\n",
    "x_train_mnist = x_train_mnist.reshape(len(x_train_mnist), -1)\n",
    "x_test_mnist = x_test_mnist.reshape(len(x_test_mnist), -1)\n",
    "\n",
    "y_train_mnist[y_train_mnist==6]=1\n",
    "y_test_mnist[y_test_mnist==6]=1"
   ]
  },
  {
   "cell_type": "code",
   "execution_count": 3,
   "id": "ae3ab90b",
   "metadata": {},
   "outputs": [
    {
     "name": "stdout",
     "output_type": "stream",
     "text": [
      "model trained 0.09662 s\n",
      "train accuracy: 0.828583\n"
     ]
    },
    {
     "data": {
      "text/plain": [
       "0.8125"
      ]
     },
     "execution_count": 3,
     "metadata": {},
     "output_type": "execute_result"
    }
   ],
   "source": [
    "classifier = LogisticRegression(.1, 1)\n",
    "classifier.fit(x_train_mnist, y_train_mnist)\n",
    "classifier.evaluate(x_test_mnist, y_test_mnist)"
   ]
  }
 ],
 "metadata": {
  "kernelspec": {
   "display_name": "Python 3",
   "language": "python",
   "name": "python3"
  },
  "language_info": {
   "codemirror_mode": {
    "name": "ipython",
    "version": 3
   },
   "file_extension": ".py",
   "mimetype": "text/x-python",
   "name": "python",
   "nbconvert_exporter": "python",
   "pygments_lexer": "ipython3",
   "version": "3.6.2"
  },
  "toc": {
   "base_numbering": 1,
   "nav_menu": {},
   "number_sections": true,
   "sideBar": true,
   "skip_h1_title": false,
   "title_cell": "Table of Contents",
   "title_sidebar": "Contents",
   "toc_cell": false,
   "toc_position": {},
   "toc_section_display": true,
   "toc_window_display": false
  }
 },
 "nbformat": 4,
 "nbformat_minor": 5
}

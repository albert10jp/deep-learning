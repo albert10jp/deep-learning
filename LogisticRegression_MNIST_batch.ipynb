{
  "nbformat": 4,
  "nbformat_minor": 0,
  "metadata": {
    "colab": {
      "name": "LogisticRegression_MNIST_batch.ipynb",
      "provenance": [],
      "collapsed_sections": []
    },
    "kernelspec": {
      "name": "python3",
      "display_name": "Python 3"
    },
    "language_info": {
      "name": "python"
    }
  },
  "cells": [
    {
      "cell_type": "code",
      "metadata": {
        "colab": {
          "base_uri": "https://localhost:8080/"
        },
        "id": "TTjlYf0KvVbf",
        "outputId": "cb36b0c7-0b4b-4a78-dbfe-ebcb0e9ed22a"
      },
      "source": [
        "from tensorflow import keras\n",
        "import time\n",
        "import numpy as np\n",
        "(x_train, y_train), (x_test, y_test) = keras.datasets.mnist.load_data()\n",
        "\n",
        "idx_digit_0 = np.argwhere(y_train == 0)\n",
        "idx_digit_0 = idx_digit_0.flatten()\n",
        "idx_digit_1 = np.argwhere(y_train == 1)\n",
        "idx_digit_1 = idx_digit_1.flatten()\n",
        "\n",
        "idx_test_digit_0 = np.argwhere(y_test == 0).flatten()\n",
        "idx_test_digit_1 = np.argwhere(y_test == 1).flatten()\n",
        "\n",
        "y_train_digit_0 = y_train[idx_digit_0]\n",
        "x_train_digit_0 = x_train[idx_digit_0]\n",
        "y_train_digit_1 = y_train[idx_digit_1]\n",
        "x_train_digit_1 = x_train[idx_digit_1]\n",
        "\n",
        "y_test_digit_0 = y_test[idx_test_digit_0]\n",
        "y_test_digit_1 = y_test[idx_test_digit_1]\n",
        "x_test_digit_0 = x_test[idx_test_digit_0]\n",
        "x_test_digit_1 = x_train[idx_test_digit_1]\n",
        "\n",
        "y_train_mnist = np.concatenate((y_train_digit_0, y_train_digit_1), axis=0)\n",
        "x_train_mnist = np.concatenate((x_train_digit_0, x_train_digit_1), axis=0)\n",
        "y_test_mnist = np.concatenate((y_test_digit_0, y_test_digit_1), axis=0)\n",
        "x_test_mnist = np.concatenate((x_test_digit_0, x_test_digit_1), axis=0)\n",
        "x_train_mnist = x_train_mnist/255.\n",
        "x_test_mnist = x_test_mnist/255.\n",
        "x_train_mnist = x_train_mnist.reshape(12665, -1)\n",
        "x_test_mnist = x_test_mnist.reshape(len(x_test_mnist), -1)\n",
        "\n",
        "def sigmoid(z):\n",
        "    s = 1 / (1 + np.exp(-z))\n",
        "    return s\n",
        "\n",
        "class LogisticRegressionM3:\n",
        "    def __init__(self, eta=.05, n_epoch=10, model_w=np.full(784, .5), model_b=.0):\n",
        "        self.eta = eta\n",
        "        self.n_epoch = n_epoch\n",
        "        self.model_w = model_w\n",
        "        self.model_b = model_b\n",
        "        self.zz = []\n",
        "\n",
        "    def activation(self, x):\n",
        "        z = np.dot(x, self.model_w) + self.model_b\n",
        "        return sigmoid(z)\n",
        "        \n",
        "    def predict(self, x):\n",
        "        a = self.activation(x)\n",
        "        if a >= 0.5:\n",
        "            return 1\n",
        "        else:\n",
        "            return 0\n",
        "        \n",
        "    def fit(self, x, y, verbose=False):\n",
        "        idx = np.arange(len(x))\n",
        "        batch_size = 10\n",
        "        for i in range(self.n_epoch):\n",
        "            n_batches = int(len(x_train_mnist)/batch_size)\n",
        "            batches = np.split(idx[:batch_size*n_batches], n_batches)\n",
        "            for batch in batches:\n",
        "                a = self.activation(x[batch])\n",
        "                dz = a - y[batch]\n",
        "                dw = np.dot(dz, x[batch])/batch_size\n",
        "                self.model_w -= self.eta * dw\n",
        "                self.model_b -= self.eta * np.mean(dz)"
      ],
      "execution_count": 1,
      "outputs": [
        {
          "output_type": "stream",
          "text": [
            "Downloading data from https://storage.googleapis.com/tensorflow/tf-keras-datasets/mnist.npz\n",
            "11493376/11490434 [==============================] - 0s 0us/step\n"
          ],
          "name": "stdout"
        }
      ]
    },
    {
      "cell_type": "code",
      "metadata": {
        "colab": {
          "base_uri": "https://localhost:8080/"
        },
        "id": "cMbS8wbavbt6",
        "outputId": "9e10d831-e99a-48b9-8d42-2333e96eba90"
      },
      "source": [
        "for i in range(5):\n",
        "  print('trial: ', i+1)\n",
        "  start_time = time.time()\n",
        "  w_mnist = np.random.uniform(size=784)\n",
        "  classifier_mnist = LogisticRegressionM3(.1, 1, w_mnist)\n",
        "  classifier_mnist.fit(x_train_mnist, y_train_mnist)\n",
        "  print('model trained {:.5f} s'.format(time.time() - start_time))\n",
        "\n",
        "  y_prediction = np.array(list(map(classifier_mnist.predict, x_train_mnist)))\n",
        "  acc = np.count_nonzero(y_prediction==y_train_mnist)\n",
        "  print('train accuracy {:.5f}'.format(acc/len(y_train_mnist)))\n",
        "\n",
        "  y_prediction = np.array(list(map(classifier_mnist.predict, x_test_mnist)))\n",
        "  acc = np.count_nonzero(y_prediction==y_test_mnist)\n",
        "  print('test accuracy {:.5f}'.format(acc/len(y_test_mnist)))"
      ],
      "execution_count": 16,
      "outputs": [
        {
          "output_type": "stream",
          "text": [
            "trial:  1\n",
            "model trained 0.06189 s\n",
            "train accuracy 0.98208\n",
            "test accuracy 0.90544\n",
            "trial:  2\n",
            "model trained 0.06768 s\n",
            "train accuracy 0.98326\n",
            "test accuracy 0.90591\n",
            "trial:  3\n",
            "model trained 0.06356 s\n",
            "train accuracy 0.98366\n",
            "test accuracy 0.89645\n",
            "trial:  4\n",
            "model trained 0.06306 s\n",
            "train accuracy 0.99053\n",
            "test accuracy 0.88180\n",
            "trial:  5\n",
            "model trained 0.06426 s\n",
            "train accuracy 0.97852\n",
            "test accuracy 0.91678\n"
          ],
          "name": "stdout"
        }
      ]
    },
    {
      "cell_type": "code",
      "metadata": {
        "id": "ex6UirFkvcJ4"
      },
      "source": [
        ""
      ],
      "execution_count": null,
      "outputs": []
    }
  ]
}